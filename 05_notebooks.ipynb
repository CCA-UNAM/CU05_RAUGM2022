{
 "cells": [
  {
   "cell_type": "markdown",
   "id": "51ce52ec-f3f2-42d9-a16c-fce61b73e399",
   "metadata": {},
   "source": [
    "# Creación de cuadernos (notebooks) \n",
    "\n",
    "Los documentos de Notebook contienen las entradas y salidas de una **sesión interactiva**, así como texto adicional que acompaña al código. \n",
    "\n",
    "Los notebooks pueden servir como un registro computacional completo de una sesión, intercalando código ejecutable con texto explicativo, matemáticas y  representaciones de los objetos resultantes. \n",
    "\n",
    "Estos documentos son archivos en formato **JSON** y se guardan con la extensión **.ipyn**.\n",
    "\n",
    "Los cuadernos se pueden exportar a una variedad de formatos estáticos, incluidos HTML (por ejemplo, para publicaciones de blog), reStructuredText, LaTeX, PDF y presentaciones de diapositivas,"
   ]
  },
  {
   "cell_type": "markdown",
   "id": "2628c896-7f82-4451-ae69-e83a71d8e3bb",
   "metadata": {},
   "source": [
    "El **notebook** se encuentra divido en celdas de 2 tipos: \n",
    "\n",
    "* Código \n",
    "* Markdown\n",
    "\n",
    "Las celdas de código se encuentran asociadas a un programa que ejecutará su contenido, este programa se le llama  **kernel**,  jupyter soporta muchos kernels, para un alista exhaustiva (al 31 de  octubre 2022) \n",
    "\n",
    "https://github.com/jupyter/jupyter/wiki/Jupyter-kernels\n",
    "\n",
    "Las celdas markdown no estan relacionadas a un kernel pero al ser ejecutas el resultado es renderizar su contenido. \n",
    "\n",
    "El objetivo de la sintaxís Markdown generar un documento fácil de escribir y fácil de leer que puede ser publicado en la WEB. \n",
    "\n",
    "\n",
    "En resumen Jupyter permite el cómputo interactivo en donde el usuario (alumno) es un actor principal: \n",
    "\n",
    "1. estudiar un problema \n",
    "2. ejecutar el código\n",
    "3. comprender los resultados\n",
    "4. regresar al paso 1\n",
    "\n",
    "logrando con esto la reproducción del análisis y  resultados expuestos, poniendo en práctica el concepto de programación  literaria introducido por Donal Knuth\n",
    "\n",
    "<div class=\"alert alert-block alert-success\">\n",
    "La programación literaria facilita enormemente la programación, porque se documenta perfectamente en qué consiste el problema, cómo se resuelve, cómo y por qué se adoptó cierto diseño, cómo se optimizó y cómo se implementó en el lenguaje de programación. Cualquiera puede leerlo y entenderlo. No tiene que descifrar código para entender cómo funciona el programa, para entender qué hace. Ni buscar en otra parte para aprender sobre el problema que resuelve, salvo en la bibliografía citada en el programa, porque todo se incluye en el mismo lugar.\n",
    "</div>\n",
    "\n",
    "D. E. Knuth, Literate Programming, The Computer Journal, Volume 27, Issue 2, 1984, Pages 97–111, https://doi.org/10.1093/comjnl/27.2.97\n"
   ]
  },
  {
   "cell_type": "markdown",
   "id": "c3c23c93-2527-4976-95ed-986b2060ceaf",
   "metadata": {},
   "source": [
    "<img src=\"https://pythoninchemistry.org/assets/images/repro.jpg\" alt=\"spectrum\"  style=\"zoom:50%;\" />\n"
   ]
  },
  {
   "cell_type": "markdown",
   "id": "6cf7454c-d1b0-4c6e-a986-baeb5315913e",
   "metadata": {},
   "source": [
    "Schwab, M. & Karrenbach, Martin & Claerbout, J.. (2000). Making scientific computations reproducible. Computing in Science & Engineering. 2. 61 - 67. https://doi.org/10.1109/5992.881708 "
   ]
  },
  {
   "cell_type": "markdown",
   "id": "15a65424-6746-4209-9f91-874d72bc4515",
   "metadata": {
    "tags": []
   },
   "source": [
    "# Celdas\n",
    "\n",
    "Los notebook se componen de celdas. Una celda es un campo donde podemos ingresar texto, el contenido de la celda puede ser ejecutado presionando **Shift-Enter** o dando **click** en el botón **Play**. \n",
    "\n",
    "El resultado de la ejecución de la celda depende de su tipo: celda de código, celda markdown y celda sin formato. El tipo de celda puede ser cambiado  por medio del menú  o por combinación de teclas."
   ]
  },
  {
   "cell_type": "markdown",
   "id": "6e8fe9cf-6f41-432e-98b3-c98f4620c246",
   "metadata": {
    "tags": []
   },
   "source": [
    "La celda en edición tiene un indicador del lado izquierdo y se activa el modo edición presionando tecla **Enter** y con tecla **Esc** se deja el modo de edición.\n",
    "\n",
    "En modo no edición se puede cambir el tipo de una celda presionado las siguientes teclas:\n",
    "\n",
    "* y Celda código\n",
    "* m Celda markdown\n",
    "* r Celda raw\n",
    "\n",
    "Algunos ejemplos de diferentes tipos de celdas: https://nbviewer.org/github/jupyter/notebook/tree/6.4.x/docs/source/examples/Notebook/"
   ]
  },
  {
   "cell_type": "markdown",
   "id": "34a9d2ca-168b-4b80-be29-94d4e4320786",
   "metadata": {},
   "source": [
    "# Celdas de código\n",
    "\n",
    "Una celda de código  permite editar y escribir código nuevo, con resaltado completo de sintaxis y uso de tecla tabulador para completar sentencias. El lenguaje de programación que se utilice depende del kernel, y el kernel predeterminado (IPython) ejecuta el código de Python. El resultado de ejecución de una celda de código se muestra en el mismo notebook en una \"celda de salida\".  \n",
    "\n",
    "Las celdas de salida o de resultado pueden ser eliminadas en el menú **kernel -> clear all outputs**"
   ]
  },
  {
   "cell_type": "code",
   "execution_count": null,
   "id": "4ae691e6-1dc0-4e90-ab7b-51cb339f451c",
   "metadata": {},
   "outputs": [],
   "source": [
    "# average of 10,000 estimates\n",
    "import random\n",
    "from math import *\n",
    "from __future__ import division\n",
    "import matplotlib.pyplot as plt\n",
    "\n",
    "n1= 10000 # number of pi estimates \n",
    "n2= 10000 # number of random number pairs to use in pi estimate\n",
    "\n",
    "pi_list=[] # create empty list to store pi estimates\n",
    "\n",
    "for _ in range(0,n1): # n1 iterations\n",
    "    my_randoms=[]  # create empty list to store distance calculations\n",
    "    for _ in range(0,n2):\n",
    "        my_randoms.append(sqrt((random.random()**2) + (random.random()**2))) # distance calculation\n",
    "    pi_list.append((sum(x<=1 for x in my_randoms)/n2)*4)\n",
    "\n",
    "print(\"Estimate:\", sum(pi_list) / float(len(pi_list))) # average pi estimate\n",
    "\n",
    "_ = plt.hist(pi_list) # histogram of pi estimates"
   ]
  },
  {
   "cell_type": "markdown",
   "id": "0aa337ce-02b4-48cd-a813-11123a025af5",
   "metadata": {},
   "source": [
    "# Celda sin formato \"raw\"\n",
    "\n",
    "Es utilizada para contenido que no será ejecutado por un kernel."
   ]
  },
  {
   "cell_type": "raw",
   "id": "32fbf379-b987-4a15-bf90-3545d790d632",
   "metadata": {},
   "source": [
    "soporte@icaycc:~/Documentos/11_noviembre/raugm22/TAREA2D$ dig jupyter1.atmosfera.unam.mx\n",
    "\n",
    "; <<>> DiG 9.18.1-1ubuntu1.2-Ubuntu <<>> jupyter1.atmosfera.unam.mx\n",
    ";; global options: +cmd\n",
    ";; Got answer:\n",
    ";; ->>HEADER<<- opcode: QUERY, status: SERVFAIL, id: 7398\n",
    ";; flags: qr rd ra; QUERY: 1, ANSWER: 0, AUTHORITY: 0, ADDITIONAL: 1\n",
    "\n",
    ";; OPT PSEUDOSECTION:\n",
    "; EDNS: version: 0, flags:; udp: 512\n",
    ";; QUESTION SECTION:\n",
    ";jupyter1.atmosfera.unam.mx.\tIN\tA\n",
    "\n",
    ";; Query time: 207 msec\n",
    ";; SERVER: 8.8.8.8#53(8.8.8.8) (UDP)\n",
    ";; WHEN: Tue Nov 01 13:52:13 CST 2022\n",
    ";; MSG SIZE  rcvd: 55\n"
   ]
  },
  {
   "cell_type": "markdown",
   "id": "be880259-cb32-4ee0-8417-457089061a40",
   "metadata": {},
   "source": [
    "# Celda markdown\n",
    "\n",
    "Todo el texto en los notebooks utilizados para este curso fueron escritos en celdas markdown, esto permite marcar el texto que debe ir en **negritas**, *cursivas*."
   ]
  },
  {
   "cell_type": "markdown",
   "id": "45a1aedd-22f2-45e6-88bb-bece1a54a5c5",
   "metadata": {},
   "source": [
    "## Bloques de código\n",
    "\n",
    "~~~python\n",
    "import numpy as np\n",
    "import matplotlib.pyplot as plt\n",
    "\n",
    "# Compute the x and y coordinates for points on sine and cosine curves\n",
    "x = np.arange(0, 3 * np.pi, 0.1)\n",
    "y_sin = np.sin(x)\n",
    "y_cos = np.cos(x)\n",
    "\n",
    "# Plot the points using matplotlib\n",
    "plt.plot(x, y_sin)\n",
    "plt.plot(x, y_cos)\n",
    "plt.xlabel('x axis label')\n",
    "plt.ylabel('y axis label')\n",
    "plt.title('Sine and Cosine')\n",
    "plt.legend(['Sine', 'Cosine'])\n",
    "plt.show()\n",
    "~~~\n"
   ]
  },
  {
   "cell_type": "markdown",
   "id": "4e307da8-2acf-4120-8527-55350af22957",
   "metadata": {},
   "source": [
    "## HTML\n",
    "<mark>Resaltar texto</mark>.\n",
    "\n",
    "<p style=\"color:blue\">Texto en color</p>\n",
    "\n",
    "<div class=\"alert alert-block alert-info\">\n",
    "<b>Tip:</b> Para uso de recomendaciones y notas\n",
    "</div>\n",
    "\n",
    "<div class=\"alert alert-block alert-warning\">\n",
    "<b>Ejemplo:</b> Recomendado para el uso de ejemplos\n",
    "</div>\n",
    "\n",
    "<div class=\"alert alert-block alert-danger\">\n",
    "<b>Advertencias:</b> Mensajes sobre acciones que deben realizarse con precaución \n",
    "</div>\n",
    "\n",
    "<div class=\"alert alert-block alert-success\">\n",
    "<b>Indicaciones:</b> Uso para mensajes y sugerencias sobre temas en específico\n",
    "</div>"
   ]
  },
  {
   "cell_type": "markdown",
   "id": "52a0baf5-013a-484d-a9ee-a1ebe0e3b688",
   "metadata": {},
   "source": [
    "## imágenes "
   ]
  },
  {
   "cell_type": "markdown",
   "id": "56621a21-4e05-4b24-8945-4a75ccd78afb",
   "metadata": {
    "jupyter": {
     "source_hidden": true
    },
    "tags": []
   },
   "source": [
    "![jupyter](https://miro.medium.com/max/1100/1*3Fm1Va6Py9GIcNXIMeqp_g.png)"
   ]
  },
  {
   "cell_type": "markdown",
   "id": "fadb46fc-dac0-4bdc-bfe6-d3cf3547a1aa",
   "metadata": {},
   "source": [
    "## Latex"
   ]
  },
  {
   "cell_type": "markdown",
   "id": "a2c96325-d26e-4be3-92ff-caa07d175d73",
   "metadata": {
    "jupyter": {
     "source_hidden": true
    },
    "tags": []
   },
   "source": [
    "$$ e^{i \\pi} + 1 = 0 $$\n",
    "***\n",
    "$$\n",
    "\\frac{arg 1}{arg 2} \\\\\n",
    "x^2\\\\\n",
    "e^{i\\pi}\\\\\n",
    "A_i\\\\\n",
    "B_{ij}\\\\\n",
    "\\sqrt[n]{arg}\t\n",
    "$$\n",
    "***\n",
    "\n",
    "Sean : $\\pi = 3.14$ , $\\alpha = \\frac{3\\pi}{4}\\, rad$\n",
    "$$\n",
    "\\omega = 2\\pi f \\\\\n",
    "f = \\frac{c}{\\lambda}\\\\\n",
    "\\lambda_0=\\theta^2+\\delta\\\\\n",
    "\\Delta\\lambda = \\frac{1}{\\lambda^2}\n",
    "$$\n",
    "***\n",
    "$$\n",
    "\\sin(-\\alpha)=-\\sin(\\alpha)\\\\\n",
    "\\arccos(x)=\\arcsin(u)\\\\\n",
    "\\log_n(n)=1\\\\\n",
    "\\tan(x) = \\frac{\\sin(x)}{\\cos(x)}\n",
    "$$\n",
    "\n",
    "***\n",
    "Left angle : $\\langle$\n",
    "\n",
    "Right angle : $\\rangle$\n",
    "\n",
    "Angle between two vectors u and v\t: $\\langle \\vec{u},\\vec{v}\\rangle$\t\n",
    "\n",
    "$$ \\vec{AB} \\, \\cdot \\, \\vec{CD} =0  \\Rightarrow  \\vec{AB} \\, \\perp\\, \\vec{CD}$$\n",
    "\n",
    "Sets and logic\n",
    "$$\\mathbb{N} \\subset \\mathbb{Z} \\subset \\mathbb{D} \\subset \\mathbb{Q} \\subset \\mathbb{R} \\subset \\mathbb{C}$$\n",
    "\n",
    "***\n",
    "$$\n",
    "sign(x) = \\left\\{\n",
    "    \\begin{array}\\\\\n",
    "        1 & \\mbox{if } \\ x \\in \\mathbf{N}^* \\\\\n",
    "        0 & \\mbox{if } \\ x = 0 \\\\\n",
    "        -1 & \\mbox{else.}\n",
    "    \\end{array}\n",
    "\\right.\n",
    "$$\n",
    "\n",
    "***\n",
    "\n",
    "$$\n",
    " \\left.\n",
    "    \\begin{array} \\\\\n",
    "        \\alpha^2 = \\sqrt5 \\\\\n",
    "        \\alpha \\geq 0 \n",
    "    \\end{array}\n",
    "\\right \\}=\\alpha = 5 \n",
    "$$\n",
    "\n",
    "***\n",
    "$$\n",
    "\\underbrace{\\ln \\left( \\frac{5}{6} \\right)}_{\\simeq -0.1823}\n",
    "< \\overbrace{\\exp (2)}^{\\simeq 7.3890}\n",
    "$$\n",
    "\n",
    "***\n",
    "First order derivative : $$f'(x)$$ \n",
    "K-th order derivative  : $$f^{(k)}(x)$$\n",
    "Partial firt order deivative\t: $$\\frac{\\partial f}{\\partial x}$$\n",
    "Partial k-th order derivative\t: $$\\frac{\\partial^{k} f}{\\partial x^k}$$\n",
    "\n",
    "***\n",
    "#limit\n",
    "Limit at plus infinity\t: $$\\lim_{x \\to +\\infty} f(x)$$ \n",
    "Limit at minus infinity\t: $$\\lim_{x \\to -\\infty} f(x)$$\t\n",
    "Limit at $\\alpha$  : $$\\lim_{x \\to \\alpha} f(x)$$\n",
    "\n",
    "Max : $$\\max_{x \\in [a,b]}f(x)$$\t\n",
    "Min : $$\\min_{x \\in [\\alpha,\\beta]}f(x)$$\t\n",
    "Sup : $$\\sup_{x \\in \\mathbb{R}}f(x)$$\t\n",
    "Inf : $$\\inf_{x > s}f(x)$$\t\n",
    "\n",
    "***\n",
    "Sum from 0 to +inf:\n",
    "\n",
    "$$\\sum_{j=0}^{+\\infty} A_{j}$$\n",
    "\n",
    "Double sum:\n",
    "$$\\sum^k_{i=1}\\sum^{l+1}_{j=1}\\,A_i A_j$$\t\n",
    "\n",
    "\n",
    "Taylor expansion of $e^x$:\n",
    "$$ e^x  = \\sum_{k=0}^{n}\\, \\frac{x^k}{k!} + o(x^n) $$ \n",
    "\n",
    "***\n",
    "Product:\n",
    "$$\\prod_{j=1}^k A_{\\alpha_j}$$\n",
    "Double product:\n",
    "$$\\prod^k_{i=1}\\prod^l_{j=1}\\,A_i A_j$$\t\n",
    "\n",
    "***\n",
    "\n",
    "Simple integral:\n",
    "$$\\int_{a}^b f(x)dx$$\n",
    "\n",
    "Double integral:\n",
    "$$\\int_{a}^b\\int_{c}^d f(x,y)\\,dxdy$$\t\n",
    "\n",
    "Triple integral:\n",
    "$$\\iiint$$\t\n",
    "\n",
    "Quadruple integral:\n",
    "$$\\iiiint$$\t\n",
    "\n",
    "Multiple integral :\n",
    "$$\\idotsint$$\n",
    "\n",
    "Contour integral:\n",
    "$$\\oint$$\t\n",
    "\n",
    "***\n",
    "\n",
    "Plain:\n",
    "\n",
    "\\begin{matrix}\n",
    "1 & 2 & 3\\\\\n",
    "a & b & c\n",
    "\\end{matrix}\n",
    "\n",
    "Round brackets:\n",
    "\\begin{pmatrix}\n",
    "1 & 2 & 3\\\\\n",
    "a & b & c\n",
    "\\end{pmatrix}\n",
    "\n",
    "Curly brackets:\n",
    "\\begin{Bmatrix}\n",
    "1 & 2 & 3\\\\\n",
    "a & b & c\n",
    "\\end{Bmatrix}\t\n",
    "\n",
    "Pipes:\n",
    "\\begin{vmatrix}\n",
    "1 & 2 & 3\\\\\n",
    "a & b & c\n",
    "\\end{vmatrix}\n",
    "\n",
    "Double pipes\n",
    "\\begin{Vmatrix}\n",
    "1 & 2 & 3\\\\\n",
    "a & b & c\n",
    "\\end{Vmatrix}"
   ]
  },
  {
   "cell_type": "markdown",
   "id": "d2038029-34b4-4fa5-b01a-b48f8eebb64c",
   "metadata": {},
   "source": [
    "## Comandos mágicos\n",
    "\n",
    "El kernel de python **IPython** soporta lineas mágicas y celdas mágicas. \n",
    "https://ipython.readthedocs.io/en/stable/interactive/magics.html#line-magics\n",
    "\n",
    "Una linea mágica  contiene el simbolo **%** antes del comando mágico a ejecutar y solo se ejecuta esa línea:"
   ]
  },
  {
   "cell_type": "code",
   "execution_count": null,
   "id": "cd1998ce-fb83-4b93-bff1-dcaf8c3e20fc",
   "metadata": {},
   "outputs": [],
   "source": [
    "%lsmagic"
   ]
  },
  {
   "cell_type": "code",
   "execution_count": null,
   "id": "140ba0ff-34f8-4e88-9bb0-03b64cdb400b",
   "metadata": {},
   "outputs": [],
   "source": [
    "%conda env list"
   ]
  },
  {
   "cell_type": "markdown",
   "id": "406eba10-ad59-476b-989e-764f0cba2499",
   "metadata": {},
   "source": [
    "Una celda mágica comienza con **%%** y todo el contenido de la celda es interpetrado según el comando.\n",
    "https://ipython.readthedocs.io/en/stable/interactive/magics.html#cell-magics"
   ]
  },
  {
   "cell_type": "code",
   "execution_count": null,
   "id": "c326fcef-005e-4045-93f2-2a1dccfa029e",
   "metadata": {},
   "outputs": [],
   "source": [
    "%%bash\n",
    "echo $PATH"
   ]
  },
  {
   "cell_type": "code",
   "execution_count": null,
   "id": "d0db8b85-de1a-4d53-a249-e4a899d642b6",
   "metadata": {
    "tags": []
   },
   "outputs": [],
   "source": [
    "%%HTML\n",
    "<iframe width=\"1024\" height=\"315\" \n",
    "src=\"https://commonmark.org/help/\" frameborder=\"0\"></iframe>"
   ]
  },
  {
   "cell_type": "code",
   "execution_count": null,
   "id": "8d450615-013c-4420-8bbf-b2c57047cb09",
   "metadata": {},
   "outputs": [],
   "source": [
    "from IPython.display import YouTubeVideo\n",
    "YouTubeVideo('xuNj5paMuow', width = 400, height = 300)"
   ]
  }
 ],
 "metadata": {
  "kernelspec": {
   "display_name": "Python 3 (ipykernel)",
   "language": "python",
   "name": "python3"
  },
  "language_info": {
   "codemirror_mode": {
    "name": "ipython",
    "version": 3
   },
   "file_extension": ".py",
   "mimetype": "text/x-python",
   "name": "python",
   "nbconvert_exporter": "python",
   "pygments_lexer": "ipython3",
   "version": "3.10.0"
  }
 },
 "nbformat": 4,
 "nbformat_minor": 5
}
