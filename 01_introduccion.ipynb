{
 "cells": [
  {
   "cell_type": "markdown",
   "id": "ccc53efa-8232-42a0-8c98-af1761ff1966",
   "metadata": {
    "tags": []
   },
   "source": [
    "# CU05 Análisis de datos geofísicos empleando el ambiente de desarrollo interactivo web JupyterLab: su aplicación en las Ciencias de la Tierra"
   ]
  },
  {
   "cell_type": "markdown",
   "id": "49b5b8a4-71af-47ef-932c-84de05f0af5b",
   "metadata": {
    "tags": []
   },
   "source": [
    "<center>\n",
    "<img src=\"https://raugm.org.mx/img/coverpage-es.png\" alt=\"logo raugm\" style=\"zoom:5%\"/>"
   ]
  },
  {
   "cell_type": "markdown",
   "id": "3082c5a8-f96f-4e1d-9278-8c98c4e10b76",
   "metadata": {
    "tags": []
   },
   "source": [
    "# <center>!! Bienvenidos al curso !!\n",
    "    \n",
    "<hr style=\"width:75%;height:4px;border-width:0;background-color:#008CBA\">"
   ]
  },
  {
   "cell_type": "markdown",
   "id": "5a1e4581-b18a-4fe6-8512-8016094082cd",
   "metadata": {
    "tags": []
   },
   "source": [
    "# EL curso está divido en 2 partes: \n",
    "\n",
    "* Introducción a Jupyter\n",
    "* Casos de uso: Pyhton, R, Matlab "
   ]
  },
  {
   "cell_type": "markdown",
   "id": "7e3990a1-d372-4b7f-adb4-a475b0f5ec8e",
   "metadata": {},
   "source": [
    "## Introducción a Jupyter\n",
    "\n",
    "**El proyecto Jupyter**\n",
    ">Veremos un panorama del proyecto Jupyter, su evolución  y sus 3 componentes principales: Jupyter Notebook, JupyterLab, JupyterHub\n",
    "\n",
    "**Instalación** \n",
    "> Se presentará el uso de conda y/o mamba para la creación de un entorno, instalar jupyter, paquetes adicionales y replicar un entorno.  \n",
    "\n",
    "**Ejecución y configuración**\n",
    "> Después de preparar un entorno de trabajo, como lanzar Jupyter y tener acceso desde el navegdor WEB. \n",
    "\n",
    "**Creación de notebooks**\n",
    "> Se mostrarán algunos ejemplos de notebook y como fueron desarrollados, se hará un repaso de la sintaxis Markdown, HTML  y Latex. \n",
    "\n",
    "**Tema avanzado (en caso de tener tiempo)**\n",
    "> Configuración de JupyterHub para el acceso de varios usuarios a Jupyter "
   ]
  },
  {
   "cell_type": "code",
   "execution_count": null,
   "id": "81ecc4ec-6553-4a22-bf38-1421d4a2c98e",
   "metadata": {},
   "outputs": [],
   "source": [
    "from IPython.display import YouTubeVideo\n",
    "YouTubeVideo('wToLrFvxSfA', width = 400, height = 300)"
   ]
  },
  {
   "cell_type": "code",
   "execution_count": null,
   "id": "55f43b46-2575-45b8-a87a-6135b10a46a9",
   "metadata": {},
   "outputs": [],
   "source": []
  }
 ],
 "metadata": {
  "kernelspec": {
   "display_name": "Python 3 (ipykernel)",
   "language": "python",
   "name": "python3"
  },
  "language_info": {
   "codemirror_mode": {
    "name": "ipython",
    "version": 3
   },
   "file_extension": ".py",
   "mimetype": "text/x-python",
   "name": "python",
   "nbconvert_exporter": "python",
   "pygments_lexer": "ipython3",
   "version": "3.10.6"
  }
 },
 "nbformat": 4,
 "nbformat_minor": 5
}
