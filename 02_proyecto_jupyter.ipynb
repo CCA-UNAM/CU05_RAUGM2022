{
 "cells": [
  {
   "cell_type": "markdown",
   "id": "76308df5-1c01-4851-894d-73c936390f0c",
   "metadata": {},
   "source": [
    "# Proyecto  Jupyter"
   ]
  },
  {
   "cell_type": "markdown",
   "id": "c96e1a8f",
   "metadata": {},
   "source": [
    "<img src=\"https://miro.medium.com/max/1100/1*3Fm1Va6Py9GIcNXIMeqp_g.png\" alt=\"jupyter\" style=\"zoom:1%;\"/>\n"
   ]
  },
  {
   "cell_type": "markdown",
   "id": "26f6dd23-fc12-45a2-ae23-6d7220e97f3c",
   "metadata": {
    "slideshow": {
     "slide_type": "-"
    }
   },
   "source": [
    "El proyecto Jupyter es un esfuerzo de código abierto que evolucionó a partir del proyecto [IPython](https://ipython.org/)  para respaldar la cienca de datos y el cómputo interactivo. Si bien el proyecto evolucionó a partir de Python, es compatible con muchos lenguajes de programación diferentes, incluidos R, Python y Julia, y fue diseñado para ser independiente del lenguaje. La plataforma Jupyter ha sido ampliamente adoptada por la comunidad científica del sector público y privado. Si está familiarizado con el lenguaje de programación R, Jupyter Notebook se puede comparar con R Markdown."
   ]
  },
  {
   "cell_type": "markdown",
   "id": "bfaeca14-3290-4be8-9c69-e05dceb8e10c",
   "metadata": {},
   "source": [
    "### Video: Project Jupyter: From interactive Python to open science - Fernando Perez"
   ]
  },
  {
   "cell_type": "code",
   "execution_count": null,
   "id": "c7e20281-b1d9-4a9c-a781-f2dbbb6810bc",
   "metadata": {
    "jupyter": {
     "source_hidden": true
    },
    "tags": []
   },
   "outputs": [],
   "source": [
    "from IPython.display import YouTubeVideo\n",
    "ID=\"xuNj5paMuow\"\n",
    "YouTubeVideo(ID, width = 600, height = 400)"
   ]
  },
  {
   "cell_type": "code",
   "execution_count": null,
   "id": "2ca82f8c",
   "metadata": {},
   "outputs": [],
   "source": []
  },
  {
   "cell_type": "markdown",
   "id": "ed8d1e7b-6fae-4473-acf1-7e98131649a0",
   "metadata": {},
   "source": [
    "# Componentes principales"
   ]
  },
  {
   "cell_type": "markdown",
   "id": "7138ff4a",
   "metadata": {},
   "source": [
    "## 1. Jupyter Notebook"
   ]
  },
  {
   "cell_type": "markdown",
   "id": "d09c0df0",
   "metadata": {},
   "source": [
    "Es una aplicación \"**open soruce**\" basada en página una web para la creación  y compartir documentos que contienen código, ecuaciones, gráficas y texto descriptivo. \n",
    "\n",
    "El código incluido puede ser ejeuctado y los resultados son mostrados en el mismo notebook, estos resultados pueden ser acompañados por  código HTML, ecuaciones LaTex, gráficos o imagenes PNG, SVG, etc. Soporta de forma nativa el uso de  [**Markdown**](https://es.wikipedia.org/wiki/Markdown) para dar formato al texto descrictivo.\n",
    "\n",
    "<div class=\"alert alert-block alert-info\">\n",
    "Este documento es un notebook cerado con markdown, código html, código python y comandos UNIX. \n",
    "</div>\n",
    "\n",
    "<div class=\"alert alert-block alert-success\">\n",
    "    Un notebook se compone por <b>celdas</b> que pueden contener <b>código ejecutable</b> y <b>texto markdown</b>, internamente se trata de un archivo <a href=\"https://es.wikipedia.org/wiki/JSON\"> <b>JSON</b></a> con la extención <b>.ipynb</b> y este formato permite exportar el documento en otros como HTML estático, LaTeX, PDF, txt, entre otros. Para más información consultar los proyectos <a href=\"https://nbconvert.readthedocs.io/en/latest/\"> <b>nbconvert</b></a> y <a href=\"https://jupytext.readthedocs.io/en/latest/\"> <b>jupytext</b></a>.\n",
    "</div>\n",
    "\n",
    "Con el uso de la herramienta UNIX **cat** podemos ver el contenido de un archivo notebook"
   ]
  },
  {
   "cell_type": "code",
   "execution_count": null,
   "id": "abe92a64",
   "metadata": {},
   "outputs": [],
   "source": [
    "%%bash\n",
    "cat 01_introduccion.ipynb"
   ]
  },
  {
   "cell_type": "markdown",
   "id": "6388f566",
   "metadata": {},
   "source": [
    "### 2. JupyterLab "
   ]
  },
  {
   "cell_type": "markdown",
   "id": "94b43ca6-a243-42d3-a776-5bccce24fe73",
   "metadata": {},
   "source": [
    "Es un entorno de desarrollo para notebooks, ofrece una interfaz para abrir diferentes documentos incluyendo un emulador de terminal.  \n",
    "\n",
    "JupyterLab es extensible y modular lo que permite una configuración más personalizada "
   ]
  },
  {
   "cell_type": "markdown",
   "id": "32c31d58",
   "metadata": {},
   "source": [
    "[Jupyter Notebook](https://www.earthdatascience.org/images/earth-analytics/jupyter-interface/python-jupyter-notebook.png)\n",
    "[JupyterLab](https://www.earthdatascience.org/images/earth-analytics/jupyter-interface/multiple-notebooks-jupyter-lab.png)"
   ]
  },
  {
   "cell_type": "code",
   "execution_count": null,
   "id": "cb04c24c",
   "metadata": {},
   "outputs": [],
   "source": [
    "%%HTML\n",
    "<iframe width=\"1000\" height=\"800\" \n",
    "src=\"https://www.earthdatascience.org/images/earth-analytics/jupyter-interface/python-jupyter-notebook.png\" \n",
    "></iframe>"
   ]
  },
  {
   "cell_type": "code",
   "execution_count": null,
   "id": "0d866504",
   "metadata": {},
   "outputs": [],
   "source": [
    "%%HTML\n",
    "<iframe width=\"1000\" height=\"800\" \n",
    "src=\"https://www.earthdatascience.org/images/earth-analytics/jupyter-interface/multiple-notebooks-jupyter-lab.png\"\n",
    "></iframe>"
   ]
  },
  {
   "cell_type": "markdown",
   "id": "f4fb4eab-a0e5-4d0b-9a00-84236cd2b131",
   "metadata": {},
   "source": [
    "#### Youtube: Jupyter Frontends: From the Classic Jupyter Notebook to JupyterLab, nteract, and Beyond"
   ]
  },
  {
   "cell_type": "code",
   "execution_count": null,
   "id": "cd01a29d-4179-4cc1-a178-be8a21c3aee7",
   "metadata": {
    "jupyter": {
     "source_hidden": true
    },
    "tags": []
   },
   "outputs": [],
   "source": [
    "from IPython.display import YouTubeVideo\n",
    "ID=\"YKmJvHjTGAM\"\n",
    "YouTubeVideo(ID, width = 600, height = 400)"
   ]
  },
  {
   "cell_type": "markdown",
   "id": "520e5870",
   "metadata": {},
   "source": [
    "### 3. JupyterHub"
   ]
  },
  {
   "cell_type": "markdown",
   "id": "2ad156a0",
   "metadata": {},
   "source": [
    "Permite el acceso a diferentes usuarios a entornos preconfigurados para el desarrollo y/o uso de notebooks, generalmente se configura en un servidor con los recursos de cómputo suficientes para atender a todos los usuarios conetados."
   ]
  },
  {
   "attachments": {
    "image.png": {
     "image/png": "[encoded data removed]"
    }
   },
   "cell_type": "markdown",
   "id": "31ae2b4d-d737-468a-be9d-827f76127446",
   "metadata": {},
   "source": [
    "![image.png](attachment:image.png)"
   ]
  },
  {
   "cell_type": "markdown",
   "id": "d5d1f9dd",
   "metadata": {},
   "source": [
    "Por default  JupyterHub utiliza autenticación  con usuarios locales (cuentas validas en el servidor), pero es posible utilizar a proveedores de autenticación como Google, Github, Moodle, Gitlab, entre otros. La documentación completa puede consultarse en [JupyterHub OAuthenticator](https://oauthenticator.readthedocs.io/en/latest/)"
   ]
  }
 ],
 "metadata": {
  "kernelspec": {
   "display_name": "Python 3 (ipykernel)",
   "language": "python",
   "name": "python3"
  },
  "language_info": {
   "codemirror_mode": {
    "name": "ipython",
    "version": 3
   },
   "file_extension": ".py",
   "mimetype": "text/x-python",
   "name": "python",
   "nbconvert_exporter": "python",
   "pygments_lexer": "ipython3",
   "version": "3.10.0"
  }
 },
 "nbformat": 4,
 "nbformat_minor": 5
}
