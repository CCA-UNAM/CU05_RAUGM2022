{
 "cells": [
  {
   "cell_type": "markdown",
   "id": "76308df5-1c01-4851-894d-73c936390f0c",
   "metadata": {},
   "source": [
    "# Proyecto  Jupyter"
   ]
  },
  {
   "cell_type": "markdown",
   "id": "c96e1a8f",
   "metadata": {},
   "source": [
    "<img src=\"https://miro.medium.com/max/1100/1*3Fm1Va6Py9GIcNXIMeqp_g.png\" alt=\"jupyter\" style=\"zoom:1%;\"/>\n"
   ]
  },
  {
   "cell_type": "markdown",
   "id": "26f6dd23-fc12-45a2-ae23-6d7220e97f3c",
   "metadata": {
    "slideshow": {
     "slide_type": "-"
    }
   },
   "source": [
    "El proyecto Jupyter es un esfuerzo de código abierto que evolucionó a partir del proyecto [IPython](https://ipython.org/)  para respaldar la cienca de datos y el cómputo interactivo. Si bien el proyecto evolucionó a partir de Python, es compatible con muchos lenguajes de programación diferentes, incluidos R, Python y Julia, y fue diseñado para ser independiente del lenguaje. La plataforma Jupyter ha sido ampliamente adoptada por la comunidad científica del sector público y privado. Si está familiarizado con el lenguaje de programación R, Jupyter Notebook se puede comparar con R Markdown."
   ]
  },
  {
   "cell_type": "markdown",
   "id": "bfaeca14-3290-4be8-9c69-e05dceb8e10c",
   "metadata": {},
   "source": [
    "### Video: Project Jupyter: From interactive Python to open science - Fernando Perez"
   ]
  },
  {
   "cell_type": "code",
   "execution_count": 20,
   "id": "c7e20281-b1d9-4a9c-a781-f2dbbb6810bc",
   "metadata": {
    "collapsed": true,
    "jupyter": {
     "outputs_hidden": true,
     "source_hidden": true
    },
    "tags": []
   },
   "outputs": [
    {
     "data": {
      "image/jpeg": "[encoded data removed]",
      "text/html": [
       "\n",
       "        <iframe\n",
       "            width=\"600\"\n",
       "            height=\"400\"\n",
       "            src=\"https://www.youtube.com/embed/xuNj5paMuow\"\n",
       "            frameborder=\"0\"\n",
       "            allowfullscreen\n",
       "            \n",
       "        ></iframe>\n",
       "        "
      ],
      "text/plain": [
       "<IPython.lib.display.YouTubeVideo at 0x7f0db3f34760>"
      ]
     },
     "execution_count": 20,
     "metadata": {},
     "output_type": "execute_result"
    }
   ],
   "source": [
    "from IPython.display import YouTubeVideo\n",
    "ID=\"xuNj5paMuow\"\n",
    "YouTubeVideo(ID, width = 600, height = 400)"
   ]
  },
  {
   "cell_type": "code",
   "execution_count": null,
   "id": "2ca82f8c",
   "metadata": {},
   "outputs": [],
   "source": []
  },
  {
   "cell_type": "markdown",
   "id": "ed8d1e7b-6fae-4473-acf1-7e98131649a0",
   "metadata": {},
   "source": [
    "# Componentes principales"
   ]
  },
  {
   "cell_type": "markdown",
   "id": "7138ff4a",
   "metadata": {},
   "source": [
    "## 1. Jupyter Notebook"
   ]
  },
  {
   "cell_type": "markdown",
   "id": "d09c0df0",
   "metadata": {},
   "source": [
    "Es una aplicación \"**open soruce**\" basada en página una web para la creación  y compartir documentos que contienen código, ecuaciones, gráficas y texto descriptivo. \n",
    "\n",
    "El código incluido puede ser ejeuctado y los resultados son mostrados en el mismo notebook, estos resultados pueden ser acompañados por  código HTML, ecuaciones LaTex, gráficos o imagenes PNG, SVG, etc. Soporta de forma nativa el uso de  [**Markdown**](https://es.wikipedia.org/wiki/Markdown) para dar formato al texto descrictivo.\n",
    "\n",
    "<div class=\"alert alert-block alert-info\">\n",
    "Este documento es un notebook cerado con markdown, código html, código python y comandos UNIX. \n",
    "</div>\n",
    "\n",
    "<div class=\"alert alert-block alert-success\">\n",
    "    Un notebook se compone por <b>celdas</b> que pueden contener <b>código ejecutable</b> y <b>texto markdown</b>, internamente se trata de un archivo <a href=\"https://es.wikipedia.org/wiki/JSON\"> <b>JSON</b></a> con la extención <b>.ipynb</b> y este formato permite exportar el documento en otros como HTML estático, LaTeX, PDF, txt, entre otros. Para más información consultar los proyectos <a href=\"https://nbconvert.readthedocs.io/en/latest/\"> <b>nbconvert</b></a> y <a href=\"https://jupytext.readthedocs.io/en/latest/\"> <b>jupytext</b></a>.\n",
    "</div>\n",
    "\n",
    "Con el uso de la herramienta UNIX **cat** podemos ver el contenido de un archivo notebook"
   ]
  },
  {
   "cell_type": "code",
   "execution_count": 3,
   "id": "abe92a64",
   "metadata": {
    "collapsed": true,
    "jupyter": {
     "outputs_hidden": true
    }
   },
   "outputs": [
    {
     "name": "stdout",
     "output_type": "stream",
     "text": [
      "{\n",
      " \"cells\": [\n",
      "  {\n",
      "   \"cell_type\": \"markdown\",\n",
      "   \"id\": \"ccc53efa-8232-42a0-8c98-af1761ff1966\",\n",
      "   \"metadata\": {\n",
      "    \"jupyter\": {\n",
      "     \"source_hidden\": true\n",
      "    },\n",
      "    \"tags\": []\n",
      "   },\n",
      "   \"source\": [\n",
      "    \"# CU05 Análisis de datos geofísicos empleando el ambiente de desarrollo interactivo web JupyterLab: su aplicación en las Ciencias de la Tierra\"\n",
      "   ]\n",
      "  },\n",
      "  {\n",
      "   \"cell_type\": \"markdown\",\n",
      "   \"id\": \"49b5b8a4-71af-47ef-932c-84de05f0af5b\",\n",
      "   \"metadata\": {\n",
      "    \"jupyter\": {\n",
      "     \"source_hidden\": true\n",
      "    },\n",
      "    \"tags\": []\n",
      "   },\n",
      "   \"source\": [\n",
      "    \"<center>\\n\",\n",
      "    \"<img src=\\\"https://raugm.org.mx/img/coverpage-es.png\\\" alt=\\\"logo raugm\\\" style=\\\"zoom:20%\\\"/>\\n\"\n",
      "   ]\n",
      "  },\n",
      "  {\n",
      "   \"cell_type\": \"markdown\",\n",
      "   \"id\": \"3082c5a8-f96f-4e1d-9278-8c98c4e10b76\",\n",
      "   \"metadata\": {\n",
      "    \"jupyter\": {\n",
      "     \"source_hidden\": true\n",
      "    },\n",
      "    \"tags\": []\n",
      "   },\n",
      "   \"source\": [\n",
      "    \"# <center>!! Bienvenidos al curso !!\\n\",\n",
      "    \"    \\n\",\n",
      "    \"<hr style=\\\"width:75%;height:4px;border-width:0;background-color:#008CBA\\\">\"\n",
      "   ]\n",
      "  },\n",
      "  {\n",
      "   \"cell_type\": \"markdown\",\n",
      "   \"id\": \"5a1e4581-b18a-4fe6-8512-8016094082cd\",\n",
      "   \"metadata\": {\n",
      "    \"jupyter\": {\n",
      "     \"source_hidden\": true\n",
      "    },\n",
      "    \"tags\": []\n",
      "   },\n",
      "   \"source\": [\n",
      "    \"# EL curso está divido en 2 partes: \\n\",\n",
      "    \"\\n\",\n",
      "    \"* Introducción a Jupyter\\n\",\n",
      "    \"* Casos de uso: Pyhton, R, Matlab \"\n",
      "   ]\n",
      "  },\n",
      "  {\n",
      "   \"cell_type\": \"markdown\",\n",
      "   \"id\": \"7e3990a1-d372-4b7f-adb4-a475b0f5ec8e\",\n",
      "   \"metadata\": {},\n",
      "   \"source\": [\n",
      "    \"## Introducción a Jupyter\\n\",\n",
      "    \"\\n\",\n",
      "    \"**El proyecto Jupyter**\\n\",\n",
      "    \">Veremos un panorama del proyecto Jupyter, su evolución  y sus 3 componentes principales: Jupyter Notebook, JupyterLab, JupyterHub\\n\",\n",
      "    \"\\n\",\n",
      "    \"**Instalación** \\n\",\n",
      "    \"> Se presentará el uso de conda y/o mamba para la creación de un entorno, instalar jupyter, paquetes adicionales y replicar un entorno.  \\n\",\n",
      "    \"\\n\",\n",
      "    \"**Ejecución y configuración**\\n\",\n",
      "    \"> Después de preparar un entorno de trabajo, como lanzar Jupyter y tener acceso desde el navegdor WEB. \\n\",\n",
      "    \"\\n\",\n",
      "    \"**Creación de notebooks**\\n\",\n",
      "    \"> Se mostrarán algunos ejemplos de notebook y como fueron desarrollados, se hará un repaso de la sintaxis Markdown, HTML  y Latex. \\n\",\n",
      "    \"\\n\",\n",
      "    \"**Tema avanzado (en caso de tener tiempo)**\\n\",\n",
      "    \"> Configuración de JupyterHub para el acceso de varios usuarios a Jupyter \"\n",
      "   ]\n",
      "  },\n",
      "  {\n",
      "   \"cell_type\": \"code\",\n",
      "   \"execution_count\": 12,\n",
      "   \"id\": \"81ecc4ec-6553-4a22-bf38-1421d4a2c98e\",\n",
      "   \"metadata\": {},\n",
      "   \"outputs\": [\n",
      "    {\n",
      "     \"data\": {\n",
      "      \"image/jpeg\": \"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\\n\",\n",
      "      \"text/html\": [\n",
      "       \"\\n\",\n",
      "       \"        <iframe\\n\",\n",
      "       \"            width=\\\"400\\\"\\n\",\n",
      "       \"            height=\\\"300\\\"\\n\",\n",
      "       \"            src=\\\"https://www.youtube.com/embed/wToLrFvxSfA\\\"\\n\",\n",
      "       \"            frameborder=\\\"0\\\"\\n\",\n",
      "       \"            allowfullscreen\\n\",\n",
      "       \"            \\n\",\n",
      "       \"        ></iframe>\\n\",\n",
      "       \"        \"\n",
      "      ],\n",
      "      \"text/plain\": [\n",
      "       \"<IPython.lib.display.YouTubeVideo at 0x7f4cc5160f70>\"\n",
      "      ]\n",
      "     },\n",
      "     \"execution_count\": 12,\n",
      "     \"metadata\": {},\n",
      "     \"output_type\": \"execute_result\"\n",
      "    }\n",
      "   ],\n",
      "   \"source\": [\n",
      "    \"from IPython.display import YouTubeVideo\\n\",\n",
      "    \"YouTubeVideo('wToLrFvxSfA', width = 400, height = 300)\"\n",
      "   ]\n",
      "  },\n",
      "  {\n",
      "   \"cell_type\": \"code\",\n",
      "   \"execution_count\": null,\n",
      "   \"id\": \"55f43b46-2575-45b8-a87a-6135b10a46a9\",\n",
      "   \"metadata\": {},\n",
      "   \"outputs\": [],\n",
      "   \"source\": []\n",
      "  }\n",
      " ],\n",
      " \"metadata\": {\n",
      "  \"kernelspec\": {\n",
      "   \"display_name\": \"Python 3 (ipykernel)\",\n",
      "   \"language\": \"python\",\n",
      "   \"name\": \"python3\"\n",
      "  },\n",
      "  \"language_info\": {\n",
      "   \"codemirror_mode\": {\n",
      "    \"name\": \"ipython\",\n",
      "    \"version\": 3\n",
      "   },\n",
      "   \"file_extension\": \".py\",\n",
      "   \"mimetype\": \"text/x-python\",\n",
      "   \"name\": \"python\",\n",
      "   \"nbconvert_exporter\": \"python\",\n",
      "   \"pygments_lexer\": \"ipython3\",\n",
      "   \"version\": \"3.10.0\"\n",
      "  }\n",
      " },\n",
      " \"nbformat\": 4,\n",
      " \"nbformat_minor\": 5\n",
      "}\n"
     ]
    }
   ],
   "source": [
    "%%bash\n",
    "cat 01_introduccion.ipynb"
   ]
  },
  {
   "cell_type": "markdown",
   "id": "6388f566",
   "metadata": {},
   "source": [
    "### 2. JupyterLab "
   ]
  },
  {
   "cell_type": "markdown",
   "id": "94b43ca6-a243-42d3-a776-5bccce24fe73",
   "metadata": {},
   "source": [
    "Es un entorno de desarrollo para notebooks, ofrece una interfaz para abrir diferentes documentos incluyendo un emulador de terminal.  \n",
    "\n",
    "JupyterLab es extensible y modular lo que permite una configuración más personalizada "
   ]
  },
  {
   "cell_type": "markdown",
   "id": "32c31d58",
   "metadata": {},
   "source": [
    "[Jupyter Notebook](https://www.earthdatascience.org/images/earth-analytics/jupyter-interface/python-jupyter-notebook.png)\n",
    "[JupyterLab](https://www.earthdatascience.org/images/earth-analytics/jupyter-interface/multiple-notebooks-jupyter-lab.png)"
   ]
  },
  {
   "cell_type": "code",
   "execution_count": 21,
   "id": "cb04c24c",
   "metadata": {
    "collapsed": true,
    "jupyter": {
     "outputs_hidden": true
    }
   },
   "outputs": [
    {
     "data": {
      "text/html": [
       "<iframe width=\"1000\" height=\"800\" \n",
       "src=\"https://www.earthdatascience.org/images/earth-analytics/jupyter-interface/python-jupyter-notebook.png\" \n",
       "></iframe>\n"
      ],
      "text/plain": [
       "<IPython.core.display.HTML object>"
      ]
     },
     "metadata": {},
     "output_type": "display_data"
    }
   ],
   "source": [
    "%%HTML\n",
    "<iframe width=\"1000\" height=\"800\" \n",
    "src=\"https://www.earthdatascience.org/images/earth-analytics/jupyter-interface/python-jupyter-notebook.png\" \n",
    "></iframe>"
   ]
  },
  {
   "cell_type": "code",
   "execution_count": 14,
   "id": "0d866504",
   "metadata": {},
   "outputs": [
    {
     "data": {
      "text/html": [
       "<iframe width=\"1000\" height=\"800\" \n",
       "src=\"https://www.earthdatascience.org/images/earth-analytics/jupyter-interface/multiple-notebooks-jupyter-lab.png\"\n",
       "></iframe>\n"
      ],
      "text/plain": [
       "<IPython.core.display.HTML object>"
      ]
     },
     "metadata": {},
     "output_type": "display_data"
    }
   ],
   "source": [
    "%%HTML\n",
    "<iframe width=\"1000\" height=\"800\" \n",
    "src=\"https://www.earthdatascience.org/images/earth-analytics/jupyter-interface/multiple-notebooks-jupyter-lab.png\"\n",
    "></iframe>"
   ]
  },
  {
   "cell_type": "markdown",
   "id": "f4fb4eab-a0e5-4d0b-9a00-84236cd2b131",
   "metadata": {},
   "source": [
    "#### Youtube: Jupyter Frontends: From the Classic Jupyter Notebook to JupyterLab, nteract, and Beyond"
   ]
  },
  {
   "cell_type": "code",
   "execution_count": null,
   "id": "cd01a29d-4179-4cc1-a178-be8a21c3aee7",
   "metadata": {
    "collapsed": true,
    "jupyter": {
     "outputs_hidden": true,
     "source_hidden": true
    },
    "tags": []
   },
   "outputs": [],
   "source": [
    "from IPython.display import YouTubeVideo\n",
    "ID=\"YKmJvHjTGAM\"\n",
    "YouTubeVideo(ID, width = 600, height = 400)"
   ]
  },
  {
   "cell_type": "markdown",
   "id": "520e5870",
   "metadata": {},
   "source": [
    "### 3. JupyterHub"
   ]
  },
  {
   "cell_type": "markdown",
   "id": "2ad156a0",
   "metadata": {},
   "source": [
    "Permite el acceso a diferentes usuarios a entornos preconfigurados para el desarrollo y/o uso de notebooks, generalmente se configura en un servidor con los recursos de cómputo suficientes para atender a todos los usuarios conetados."
   ]
  },
  {
   "attachments": {
    "image.png": {
     "image/png": "[encoded data removed]"
    }
   },
   "cell_type": "markdown",
   "id": "31ae2b4d-d737-468a-be9d-827f76127446",
   "metadata": {},
   "source": [
    "![image.png](attachment:image.png)"
   ]
  },
  {
   "cell_type": "markdown",
   "id": "d5d1f9dd",
   "metadata": {},
   "source": [
    "Por default  JupyterHub utiliza autenticación  con usuarios locales (cuentas validas en el servidor), pero es posible utilizar a proveedores de autenticación como Google, Github, Moodle, Gitlab, entre otros. La documentación completa puede consultarse en [JupyterHub OAuthenticator](https://oauthenticator.readthedocs.io/en/latest/)"
   ]
  }
 ],
 "metadata": {
  "kernelspec": {
   "display_name": "Python 3 (ipykernel)",
   "language": "python",
   "name": "python3"
  },
  "language_info": {
   "codemirror_mode": {
    "name": "ipython",
    "version": 3
   },
   "file_extension": ".py",
   "mimetype": "text/x-python",
   "name": "python",
   "nbconvert_exporter": "python",
   "pygments_lexer": "ipython3",
   "version": "3.10.0"
  }
 },
 "nbformat": 4,
 "nbformat_minor": 5
}
